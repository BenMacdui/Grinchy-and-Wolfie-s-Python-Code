{
  "nbformat": 4,
  "nbformat_minor": 0,
  "metadata": {
    "colab": {
      "name": "Mixed_number_Fraction_Operation.ipynb",
      "provenance": [],
      "authorship_tag": "ABX9TyPzCW+GYtWacRxygpdCMJxx",
      "include_colab_link": true
    },
    "kernelspec": {
      "name": "python3",
      "display_name": "Python 3"
    },
    "language_info": {
      "name": "python"
    }
  },
  "cells": [
    {
      "cell_type": "markdown",
      "metadata": {
        "id": "view-in-github",
        "colab_type": "text"
      },
      "source": [
        "<a href=\"https://colab.research.google.com/github/BenMacdui/Grinchy-and-Wolfie-s-Python-Code/blob/main/Mixed_number_Fraction_Operation.ipynb\" target=\"_parent\"><img src=\"https://colab.research.google.com/assets/colab-badge.svg\" alt=\"Open In Colab\"/></a>"
      ]
    },
    {
      "cell_type": "code",
      "execution_count": 3,
      "metadata": {
        "colab": {
          "base_uri": "https://localhost:8080/"
        },
        "id": "8Nf7Hese93AE",
        "outputId": "fe7a87b1-2b2a-4567-a4d9-a5616bd0b98a"
      },
      "outputs": [
        {
          "output_type": "stream",
          "name": "stdout",
          "text": [
            "Insert the first whole number: 5\n",
            "Insert the first fraction in the form of x/y: 3/4\n",
            "Insert the second whole number: 29\n",
            "Insert the second fraction in the form of x/y:  5/6\n",
            "Please enter the operand in the form of +, -, *, / or **  *\n",
            "\n",
            "4117/24\n",
            "\n",
            "mixed number result 171 13/24\n"
          ]
        }
      ],
      "source": [
        "#@title Mixed number operation for S1 and S2 homework\n",
        "\n",
        "#importing the Fraction module as frac (saves typing)\n",
        "from fractions import Fraction as frac\n",
        "\n",
        "'''this little programme can take whole number and fractions and performs a\n",
        "mathematical operation on them and prints out a prettyfied result\n",
        "The whole number and fraction need to be inserted seperately'''\n",
        "\n",
        "#Getting user input\n",
        "a = int(input('Insert the first whole number: '))\n",
        "b = frac(input('Insert the first fraction in the form of x/y: '))\n",
        "\n",
        "# the next line turns the mixed number into a improper fraction\n",
        "result = frac((a*b.denominator + b.numerator),b.denominator)\n",
        "\n",
        "#getting the next number and turning it into a improper function\n",
        "a1 = int(input('Insert the second whole number: '))\n",
        "b1 = frac(input('Insert the second fraction in the form of x/y:  '))\n",
        "result1 = frac((a1*b1.denominator + b1.numerator),b1.denominator)\n",
        "\n",
        "\n",
        "# getting the operator\n",
        "opp = input('Please enter the operand in the form of +, -, *, / or **  ')\n",
        "\n",
        "\n",
        "# conditionals to use the operator\n",
        "if opp == '+':\n",
        "    output = result + result1\n",
        "elif opp == \"-\":\n",
        "    output = result - result1\n",
        "elif opp == '/':\n",
        "    output = result / result1\n",
        "elif opp == '*':\n",
        "    output = result * result1\n",
        "elif opp == '**':\n",
        "    output = result ** result1\n",
        "    \n",
        "\n",
        "print()    \n",
        "print(output)\n",
        "print()\n",
        "\n",
        "x = output.numerator // output.denominator\n",
        "y = output.numerator % output.denominator\n",
        "print(\"mixed number result {} {}/{}\".format(x, y, output.denominator))"
      ]
    },
    {
      "cell_type": "code",
      "source": [
        ""
      ],
      "metadata": {
        "id": "Ql_suT_v-Qed"
      },
      "execution_count": null,
      "outputs": []
    }
  ]
}