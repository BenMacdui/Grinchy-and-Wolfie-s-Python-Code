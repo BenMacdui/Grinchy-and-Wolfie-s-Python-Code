{
  "nbformat": 4,
  "nbformat_minor": 0,
  "metadata": {
    "colab": {
      "name": "python_puzzle1.ipynb",
      "provenance": [],
      "authorship_tag": "ABX9TyOXLjXnqNtBNyUQbl1wyI50",
      "include_colab_link": true
    },
    "kernelspec": {
      "name": "python3",
      "display_name": "Python 3"
    },
    "language_info": {
      "name": "python"
    }
  },
  "cells": [
    {
      "cell_type": "markdown",
      "metadata": {
        "id": "view-in-github",
        "colab_type": "text"
      },
      "source": [
        "<a href=\"https://colab.research.google.com/github/BenMacdui/Grinchy-and-Wolfie-s-Python-Code/blob/main/python_puzzle1.ipynb\" target=\"_parent\"><img src=\"https://colab.research.google.com/assets/colab-badge.svg\" alt=\"Open In Colab\"/></a>"
      ]
    },
    {
      "cell_type": "markdown",
      "source": [
        "Becoming good at coding (programming). \n",
        "\n",
        "To be a good programmer means we have to be able to predict what the code does. \n",
        "\n",
        "A good programmer can predict the effect of the code. Just look at the statement below. \n",
        "\n",
        "We know what this does. It is a print function that will print out whatever is written inside two brackets and quotation marks (single or double)\n",
        "\n",
        "If you run the cell below you will see what I mean."
      ],
      "metadata": {
        "id": "K6GyXbovxmAB"
      }
    },
    {
      "cell_type": "code",
      "execution_count": null,
      "metadata": {
        "id": "FNSHhCcLxlQd"
      },
      "outputs": [],
      "source": [
        "print(\"Hi my name is Mr. Christian\")\n",
        "print('Hi my name is Sam')"
      ]
    },
    {
      "cell_type": "markdown",
      "source": [
        "We were able to predict what the code will do because we know what the function print does.\n",
        "\n",
        "We already know another Python function namely input. This takes the input of a user and does something with it. \n",
        "\n",
        "What do you think it does? \n",
        "\n",
        "When you run the cell it will wait for the user to input something, we can input whatever we want as we have not said what we want the user to put into the box that will appear.\n",
        "\n",
        "We also know about variables. These are like boxes where we store things in. \n",
        "\n",
        "Here the variable name stores whatever the user types into the box\n",
        "\n",
        "Go ahead and try it."
      ],
      "metadata": {
        "id": "PCbNUNpuzBnL"
      }
    },
    {
      "cell_type": "code",
      "source": [
        "name = input()"
      ],
      "metadata": {
        "id": "NXrM9msezXIr"
      },
      "execution_count": null,
      "outputs": []
    },
    {
      "cell_type": "markdown",
      "source": [
        "What do you think will happen if we now used the print function and printed out the variable that stored what the user typed into the input box? \n",
        "\n",
        "When you want the contents of a variable to print, you don't need quotation marks. All you need to do is type the name in brackets after the print statement, like below.\n",
        "\n",
        "Before you run the cell, have a guess what the outcome is. You are learning to become a good programmer. 😃"
      ],
      "metadata": {
        "id": "HmneHQUU0QYq"
      }
    },
    {
      "cell_type": "code",
      "source": [
        "print(name)"
      ],
      "metadata": {
        "id": "wD8t-6en05-H"
      },
      "execution_count": null,
      "outputs": []
    },
    {
      "cell_type": "markdown",
      "source": [
        "We can use the + sign to join two strings (words) together. This is called concatenate.  "
      ],
      "metadata": {
        "id": "TapQ2uD21Rga"
      }
    },
    {
      "cell_type": "code",
      "source": [
        "print(\"hello\"+ name)"
      ],
      "metadata": {
        "id": "5ZOtzJ6f1iCj"
      },
      "execution_count": null,
      "outputs": []
    },
    {
      "cell_type": "markdown",
      "source": [
        "The trouble is, the + sign literally joins both of the strings together, but we could use a comma to make a space. \n",
        "\n",
        "For example, we could have two variables called firstName and secondName and the print these out using a comma.\n",
        "\n",
        "When we assign (store) strings (word or sentences) to a variable, we have to put these into quotation marks."
      ],
      "metadata": {
        "id": "nuKg-PEW2Koo"
      }
    },
    {
      "cell_type": "code",
      "source": [
        "firstName = \"Sam\"\n",
        "secondName = \"Taylor\"\n",
        "print(firstName,secondName)"
      ],
      "metadata": {
        "id": "fSNXeR5W2lRX"
      },
      "execution_count": null,
      "outputs": []
    },
    {
      "cell_type": "markdown",
      "source": [
        "Numbers on the other hand don't need quotation marks. "
      ],
      "metadata": {
        "id": "wRqi9RHg3JAR"
      }
    },
    {
      "cell_type": "code",
      "source": [
        "num1 = 2\n",
        "num2 = 3\n",
        "print(num1,num2)"
      ],
      "metadata": {
        "id": "lKm9I8b83NjR"
      },
      "execution_count": null,
      "outputs": []
    },
    {
      "cell_type": "markdown",
      "source": [
        "Let's do a little puzzle to get us thinking like a programmer. \n",
        "\n",
        "For example you might see something like the following:\n",
        "\n",
        "age = 12\n",
        "name = \"Sam\"\n",
        "print(\"Hi, my name is\",name,\"and I am\",age, \"years old\")\n",
        "and you need to write exactly out what the outcome of this bit of code is.\n",
        "\n",
        "Just double click on the word solution below the puzle question and type in your answer. \n",
        "\n",
        "Remember to type in precisely the outcome\n",
        "\n",
        "We will then have to check whether it was right or not (your mum will send a photo of the screen)."
      ],
      "metadata": {
        "id": "5eE5ylyp3lpK"
      }
    },
    {
      "cell_type": "markdown",
      "source": [
        "productName = \"bicycle\" \n",
        "\n",
        "print(productName)"
      ],
      "metadata": {
        "id": "NoJZhHne4qrM"
      }
    },
    {
      "cell_type": "markdown",
      "source": [
        "##Solution: "
      ],
      "metadata": {
        "id": "CXkLdyp640m4"
      }
    },
    {
      "cell_type": "markdown",
      "source": [
        "dogbread = 'Poodle'\n",
        "\n",
        "dogage = \"Two\"\n",
        "\n",
        "print(dogbread, dogage)"
      ],
      "metadata": {
        "id": "pFk8-uVG42ci"
      }
    },
    {
      "cell_type": "markdown",
      "source": [
        "## Solution:\n"
      ],
      "metadata": {
        "id": "b8pKKCBWyfYw"
      }
    },
    {
      "cell_type": "markdown",
      "source": [
        "name = \"Mr Christian\"\n",
        "\n",
        "age = 27\n",
        "\n",
        "print(name, age)"
      ],
      "metadata": {
        "id": "r3OdAV1m5_hX"
      }
    },
    {
      "cell_type": "markdown",
      "source": [
        "## Solution:\n"
      ],
      "metadata": {
        "id": "r1ZjSNtc6LZi"
      }
    },
    {
      "cell_type": "markdown",
      "source": [
        "productName = \"Bicycle\"\n",
        "otherproductName = \"Pump\"\n",
        "\n",
        "print(productName + otherproductName)"
      ],
      "metadata": {
        "id": "ANjWPivXASeQ"
      }
    },
    {
      "cell_type": "markdown",
      "source": [
        "## Solution:\n"
      ],
      "metadata": {
        "id": "7Sb6zqiRAhqm"
      }
    },
    {
      "cell_type": "markdown",
      "source": [
        "# 23 Jan 2022\n",
        "\n",
        "Remember above our other function we know, other than print, was input()\n",
        "The input function. It is almost like the print function, only this time as well as printing out something (if we want to), we also wait and store a user input. \n",
        "\n",
        "For example name = input(\"What's your name \")\n",
        "\n",
        "Here we prompt the user with a printed statement \"What's your name\" to enter there name and then we store this user input, what they typed in the box, in the variable name. Now we could have named the variable name also a, if does make no difference for now tho there are certain keywords we can't use but we won't go over that just now.\n",
        "\n",
        "We can now use the variable name for something else, like for example, in a print statement. \n",
        "\n",
        "Go ahead and play the next cell and type in your name in the input box"
      ],
      "metadata": {
        "id": "HRL_RnZGaq1C"
      }
    },
    {
      "cell_type": "code",
      "source": [
        "name = input(\"What's your name: \")\n",
        "\n",
        "print(\"Hello\", name)"
      ],
      "metadata": {
        "id": "4-SwAre0by13"
      },
      "execution_count": null,
      "outputs": []
    },
    {
      "cell_type": "markdown",
      "source": [
        "In the above example we can see how a comma adds some space. But remember a plus sign, the sign for concatenation (joining) in strings (words and sentences) does not leave a space. \n",
        "\n",
        "See what happens if we use a + in the following example:\n",
        "\n",
        "Can you guess? Have an educated guess before playing the cell. "
      ],
      "metadata": {
        "id": "Naoe79P2eJ6y"
      }
    },
    {
      "cell_type": "code",
      "source": [
        "firstName = \"Mr\"\n",
        "secondName = \"Christian\"\n",
        "print(firstName + secondName)"
      ],
      "metadata": {
        "id": "I_t_BFtFeiJ0"
      },
      "execution_count": null,
      "outputs": []
    },
    {
      "cell_type": "markdown",
      "source": [
        "Where you right? \n",
        "\n",
        "Why, and you right to ask, would we want to concatenate two strings (words or sentences?)\n",
        "\n",
        "Well, there might be a time when you want to join a first name with a second name or similar things. Now we know the + sign doesn't leave any space but we could input a space like so: \" \". \n",
        "\n",
        "So we add the space after firstName then after our space \" \" we add the secondName.\n",
        "\n",
        "Run the next cell to see how it works. "
      ],
      "metadata": {
        "id": "563Fe6jpe65N"
      }
    },
    {
      "cell_type": "code",
      "source": [
        "print(firstName + \" \" +  secondName)"
      ],
      "metadata": {
        "id": "vj6H9BmpfxWo"
      },
      "execution_count": null,
      "outputs": []
    },
    {
      "cell_type": "markdown",
      "source": [
        "We can also combine two variables (or more) before printing them out like below:"
      ],
      "metadata": {
        "id": "ZpPBlxnZij3j"
      }
    },
    {
      "cell_type": "code",
      "source": [
        "var1 = \"Mr\"\n",
        "var2 = \"Christian\"\n",
        "real_name = var1 + \" \" + var2\n",
        "print(real_name)"
      ],
      "metadata": {
        "id": "r-A4juodisti"
      },
      "execution_count": null,
      "outputs": []
    },
    {
      "cell_type": "markdown",
      "source": [
        "another example:"
      ],
      "metadata": {
        "id": "DkH44DhCjCsU"
      }
    },
    {
      "cell_type": "code",
      "source": [
        "name = 'Mum'\n",
        "otherName = 'Michelle'\n",
        "lastName = 'Tayler'\n",
        "real = name + ' is ' + otherName + \" \" + lastName\n",
        "print(real)"
      ],
      "metadata": {
        "id": "BoF9nM4ejFZX"
      },
      "execution_count": null,
      "outputs": []
    },
    {
      "cell_type": "markdown",
      "source": [
        "Did you notice how I left two spaces between the quotation mark and the word *is*? \n",
        "\n",
        "We can insert space that way two as otherwise the name variable would be joined to the word is and that is not what we want.\n",
        "\n",
        "This is important and might come up in the puzzles"
      ],
      "metadata": {
        "id": "0xvSyMG9j02a"
      }
    },
    {
      "cell_type": "markdown",
      "source": [
        "Remember when we want to print the contents of our variable (which is like a storage container) we do not need quotation marks. \n",
        "\n",
        "What you think happens if we put the variable name in quotation marks inside a print statement?\n",
        "\n",
        "Go ahead and try it. Type print(name) and underneath it type print(\"name\")"
      ],
      "metadata": {
        "id": "k94KuEtTcFKa"
      }
    },
    {
      "cell_type": "code",
      "source": [
        ""
      ],
      "metadata": {
        "id": "lpgrK5GYclaV"
      },
      "execution_count": null,
      "outputs": []
    },
    {
      "cell_type": "markdown",
      "source": [
        "See the difference? \n",
        "\n",
        "Let's have a few puzzles to see whether we can read the code and predict what it will do. "
      ],
      "metadata": {
        "id": "X_sOOlH4c8hW"
      }
    },
    {
      "cell_type": "markdown",
      "source": [
        "# Puzzles"
      ],
      "metadata": {
        "id": "pdf29q2PhtLQ"
      }
    },
    {
      "cell_type": "markdown",
      "source": [
        "What happens when the user enters **video**\n",
        "\n",
        "game = input('please enter a word ')\n",
        "\n",
        "print(game, game + game)"
      ],
      "metadata": {
        "id": "MZJzUNgKhw_2"
      }
    },
    {
      "cell_type": "markdown",
      "source": [
        "## Solution:"
      ],
      "metadata": {
        "id": "gvQrOUMAh64a"
      }
    },
    {
      "cell_type": "markdown",
      "source": [
        "var1 = \"Going\"\n",
        "\n",
        "var2 = \"Gone\"\n",
        "\n",
        "print(var1, \"Going\", var2)"
      ],
      "metadata": {
        "id": "gq31eH-jiEtz"
      }
    },
    {
      "cell_type": "markdown",
      "source": [
        "## Solution"
      ],
      "metadata": {
        "id": "MMCXQTBfiP3C"
      }
    },
    {
      "cell_type": "markdown",
      "source": [
        "textOne = \"Be kind\"\n",
        "\n",
        "textTwo = \"possible\"\n",
        "\n",
        "textThree = textOne + \"  whenever\"\n",
        "\n",
        "print(textThree, textTwo + \".\")"
      ],
      "metadata": {
        "id": "-csVvHuHiSc0"
      }
    },
    {
      "cell_type": "markdown",
      "source": [
        "## Solution:\n"
      ],
      "metadata": {
        "id": "qcPd__qVli-s"
      }
    },
    {
      "cell_type": "markdown",
      "source": [
        "### Toughie coming up\n",
        "\n",
        "For the next one state the two input words from user that would be needed to get the following output:\n",
        "\n",
        "### Love the life you live. Live the life you love\n",
        "\n",
        "\n"
      ],
      "metadata": {
        "id": "irSox7gtmKKC"
      }
    },
    {
      "cell_type": "markdown",
      "source": [
        "word1 = input(\"please enter the first word\")\n",
        "\n",
        "word2 = \"the \" + word1 + \"  you\"\n",
        "\n",
        "word3 = input(\"please enter the next word\")\n",
        "\n",
        "print(\"Love\",  word2,  word3  + \". Live the\", word1 + \" you love\")"
      ],
      "metadata": {
        "id": "0FCSusXGpKnK"
      }
    },
    {
      "cell_type": "markdown",
      "source": [
        "## Solution:\n"
      ],
      "metadata": {
        "id": "1A7kptEQpRNs"
      }
    },
    {
      "cell_type": "code",
      "source": [
        ""
      ],
      "metadata": {
        "id": "YlY9b_MmpU9A"
      },
      "execution_count": null,
      "outputs": []
    }
  ]
}