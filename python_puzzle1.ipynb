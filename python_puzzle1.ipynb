{
  "nbformat": 4,
  "nbformat_minor": 0,
  "metadata": {
    "colab": {
      "name": "python_puzzle1.ipynb",
      "provenance": [],
      "authorship_tag": "ABX9TyNXBDxn1PotgPwZJP+bRiCv",
      "include_colab_link": true
    },
    "kernelspec": {
      "name": "python3",
      "display_name": "Python 3"
    },
    "language_info": {
      "name": "python"
    }
  },
  "cells": [
    {
      "cell_type": "markdown",
      "metadata": {
        "id": "view-in-github",
        "colab_type": "text"
      },
      "source": [
        "<a href=\"https://colab.research.google.com/github/BenMacdui/Grinchy-and-Wolfie-s-Python-Code/blob/main/python_puzzle1.ipynb\" target=\"_parent\"><img src=\"https://colab.research.google.com/assets/colab-badge.svg\" alt=\"Open In Colab\"/></a>"
      ]
    },
    {
      "cell_type": "markdown",
      "source": [
        "Becoming good at coding (programming). \n",
        "\n",
        "To be a good programmer means we have to be able to predict what the code does. \n",
        "\n",
        "A good programmer can predict the effect of the code. Just look at the statement below. \n",
        "\n",
        "We know what this does. It is a print function that will print out whatever is written inside two brackets and quotation marks (single or double)\n",
        "\n",
        "If you run the cell below you will see what I mean."
      ],
      "metadata": {
        "id": "K6GyXbovxmAB"
      }
    },
    {
      "cell_type": "code",
      "execution_count": null,
      "metadata": {
        "id": "FNSHhCcLxlQd"
      },
      "outputs": [],
      "source": [
        "print(\"Hi my name is Mr. Christian\")\n",
        "print('Hi my name is Sam')"
      ]
    },
    {
      "cell_type": "markdown",
      "source": [
        "We were able to predict what the code will do because we know what the function print does.\n",
        "\n",
        "We already know another Python function namely input. This takes the input of a user and does something with it. \n",
        "\n",
        "What do you think it does? \n",
        "\n",
        "When you run the cell it will wait for the user to input something, we can input whatever we want as we have not said what we want the user to put into the box that will appear.\n",
        "\n",
        "We also know about variables. These are like boxes where we store things in. \n",
        "\n",
        "Here the variable name stores whatever the user types into the box\n",
        "\n",
        "Go ahead and try it."
      ],
      "metadata": {
        "id": "PCbNUNpuzBnL"
      }
    },
    {
      "cell_type": "code",
      "source": [
        "name = input()"
      ],
      "metadata": {
        "id": "NXrM9msezXIr"
      },
      "execution_count": null,
      "outputs": []
    },
    {
      "cell_type": "markdown",
      "source": [
        "What do you think will happen if we now used the print function and printed out the variable that stored what the user typed into the input box? \n",
        "\n",
        "When you want the contents of a variable to print, you don't need quotation marks. All you need to do is type the name in brackets after the print statement, like below.\n",
        "\n",
        "Before you run the cell, have a guess what the outcome is. You are learning to become a good programmer. 😃"
      ],
      "metadata": {
        "id": "HmneHQUU0QYq"
      }
    },
    {
      "cell_type": "code",
      "source": [
        "print(name)"
      ],
      "metadata": {
        "id": "wD8t-6en05-H"
      },
      "execution_count": null,
      "outputs": []
    },
    {
      "cell_type": "markdown",
      "source": [
        "We can use the + sign to join two strings (words) together. This is called concatenate.  "
      ],
      "metadata": {
        "id": "TapQ2uD21Rga"
      }
    },
    {
      "cell_type": "code",
      "source": [
        "print(\"hello\"+ name)"
      ],
      "metadata": {
        "id": "5ZOtzJ6f1iCj"
      },
      "execution_count": null,
      "outputs": []
    },
    {
      "cell_type": "markdown",
      "source": [
        "The trouble is, the + sign literally joins both of the strings together, but we could use a comma to make a space. \n",
        "\n",
        "For example, we could have two variables called firstName and secondName and the print these out using a comma.\n",
        "\n",
        "When we assign (store) strings (word or sentences) to a variable, we have to put these into quotation marks."
      ],
      "metadata": {
        "id": "nuKg-PEW2Koo"
      }
    },
    {
      "cell_type": "code",
      "source": [
        "firstName = \"Sam\"\n",
        "secondName = \"Taylor\"\n",
        "print(firstName,secondName)"
      ],
      "metadata": {
        "id": "fSNXeR5W2lRX"
      },
      "execution_count": null,
      "outputs": []
    },
    {
      "cell_type": "markdown",
      "source": [
        "Numbers on the other hand don't need quotation marks. "
      ],
      "metadata": {
        "id": "wRqi9RHg3JAR"
      }
    },
    {
      "cell_type": "code",
      "source": [
        "num1 = 2\n",
        "num2 = 3\n",
        "print(num1,num2)"
      ],
      "metadata": {
        "id": "lKm9I8b83NjR"
      },
      "execution_count": null,
      "outputs": []
    },
    {
      "cell_type": "markdown",
      "source": [
        "Let's do a little puzzle to get us thinking like a programmer. \n",
        "\n",
        "For example you might see something like the following:\n",
        "\n",
        "age = 12\n",
        "name = \"Sam\"\n",
        "print(\"Hi, my name is\",name,\"and I am\",age, \"years old\")\n",
        "and you need to write exactly out what the outcome of this bit of code is.\n",
        "\n",
        "Just double click on the word solution below the puzle question and type in your answer. \n",
        "\n",
        "Remember to type in precisely the outcome\n",
        "\n",
        "We will then have to check whether it was right or not (your mum will send a photo of the screen)."
      ],
      "metadata": {
        "id": "5eE5ylyp3lpK"
      }
    },
    {
      "cell_type": "markdown",
      "source": [
        "productName = \"bicycle\" \n",
        "\n",
        "print(productName)"
      ],
      "metadata": {
        "id": "NoJZhHne4qrM"
      }
    },
    {
      "cell_type": "markdown",
      "source": [
        "##Solution: "
      ],
      "metadata": {
        "id": "CXkLdyp640m4"
      }
    },
    {
      "cell_type": "markdown",
      "source": [
        "dogbread = 'Poodle'\n",
        "\n",
        "dogage = \"Two\"\n",
        "\n",
        "print(dogbread, dogage)"
      ],
      "metadata": {
        "id": "pFk8-uVG42ci"
      }
    },
    {
      "cell_type": "markdown",
      "source": [
        "## Solution:\n"
      ],
      "metadata": {
        "id": "b8pKKCBWyfYw"
      }
    },
    {
      "cell_type": "markdown",
      "source": [
        "name = \"Mr Christian\"\n",
        "\n",
        "age = 27\n",
        "\n",
        "print(name, age)"
      ],
      "metadata": {
        "id": "r3OdAV1m5_hX"
      }
    },
    {
      "cell_type": "markdown",
      "source": [
        "## Solution:\n"
      ],
      "metadata": {
        "id": "r1ZjSNtc6LZi"
      }
    },
    {
      "cell_type": "markdown",
      "source": [
        "productName = \"Bicycle\"\n",
        "otherproductName = \"Pump\"\n",
        "\n",
        "print(productName + otherproductName)"
      ],
      "metadata": {
        "id": "ANjWPivXASeQ"
      }
    },
    {
      "cell_type": "markdown",
      "source": [
        "## Solution:\n"
      ],
      "metadata": {
        "id": "7Sb6zqiRAhqm"
      }
    }
  ]
}