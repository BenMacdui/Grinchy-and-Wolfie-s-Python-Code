{
 "cells": [
  {
   "cell_type": "code",
   "execution_count": null,
   "metadata": {},
   "outputs": [
    {
     "name": "stdin",
     "output_type": "stream",
     "text": [
      "rock, sissors, paper? rock\n"
     ]
    },
    {
     "name": "stdout",
     "output_type": "stream",
     "text": [
      "tie\n"
     ]
    }
   ],
   "source": [
    "from random import randint\n",
    "import time\n",
    "# create a list of play options\n",
    "t = ['rock', 'sissors', 'paper']\n",
    "\n",
    "#assign the computer random play\n",
    "computer = t[randint(0,2)]\n",
    "\n",
    "# set player to false\n",
    "player = False\n",
    "\n",
    "while player == False:\n",
    "    player = input('rock, sissors, paper?')\n",
    "    if player == computer:\n",
    "        print(\"tie\")\n",
    "    elif player == 'rock':\n",
    "        if computer == 'paper':\n",
    "            print('you loose', computer, 'covers', player)\n",
    "        else: \n",
    "            print('You win.', player, 'smashes', computer)\n",
    "    elif player == 'paper':\n",
    "        if computer == 'sissors':\n",
    "            print('you loose', computer, 'cuts', player)\n",
    "        else:\n",
    "            print('you win', player, 'covers', computer)\n",
    "    elif player == 'sissors':\n",
    "        if computer == 'rock':\n",
    "            print('you loose', computer, 'smashes', player)\n",
    "        else:\n",
    "            print('you win', player, 'cut', computer)\n",
    "    else:\n",
    "        print('That is not a valid choice. Check your spelling')\n",
    "    player = False\n",
    "    computer = t[randint(0,2)]\n"
   ]
  },
  {
   "cell_type": "code",
   "execution_count": null,
   "metadata": {},
   "outputs": [],
   "source": []
  }
 ],
 "metadata": {
  "kernelspec": {
   "display_name": "Python 3",
   "language": "python",
   "name": "python3"
  },
  "language_info": {
   "codemirror_mode": {
    "name": "ipython",
    "version": 3
   },
   "file_extension": ".py",
   "mimetype": "text/x-python",
   "name": "python",
   "nbconvert_exporter": "python",
   "pygments_lexer": "ipython3",
   "version": "3.7.4"
  }
 },
 "nbformat": 4,
 "nbformat_minor": 4
}
