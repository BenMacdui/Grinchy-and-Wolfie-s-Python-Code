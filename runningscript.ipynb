{
  "nbformat": 4,
  "nbformat_minor": 0,
  "metadata": {
    "colab": {
      "name": "runningscript.ipynb",
      "provenance": [],
      "authorship_tag": "ABX9TyPnlKJn6Udf11Alr+dLN66l",
      "include_colab_link": true
    },
    "kernelspec": {
      "name": "python3",
      "display_name": "Python 3"
    },
    "language_info": {
      "name": "python"
    }
  },
  "cells": [
    {
      "cell_type": "markdown",
      "metadata": {
        "id": "view-in-github",
        "colab_type": "text"
      },
      "source": [
        "<a href=\"https://colab.research.google.com/github/BenMacdui/Grinchy-and-Wolfie-s-Python-Code/blob/main/runningscript.ipynb\" target=\"_parent\"><img src=\"https://colab.research.google.com/assets/colab-badge.svg\" alt=\"Open In Colab\"/></a>"
      ]
    },
    {
      "cell_type": "code",
      "execution_count": 11,
      "metadata": {
        "colab": {
          "base_uri": "https://localhost:8080/"
        },
        "id": "wklGeAumAdKo",
        "outputId": "376eb5de-f8cd-4417-fd69-b7e9a48f36f1"
      },
      "outputs": [
        {
          "output_type": "stream",
          "name": "stdout",
          "text": [
            "Cloning into 'Grinchy-and-Wolfie-s-Python-Code'...\n",
            "remote: Enumerating objects: 223, done.\u001b[K\n",
            "remote: Counting objects: 100% (223/223), done.\u001b[K\n",
            "remote: Compressing objects: 100% (221/221), done.\u001b[K\n",
            "remote: Total 223 (delta 118), reused 0 (delta 0), pack-reused 0\u001b[K\n",
            "Receiving objects: 100% (223/223), 71.49 KiB | 778.00 KiB/s, done.\n",
            "Resolving deltas: 100% (118/118), done.\n"
          ]
        }
      ],
      "source": [
        "!git clone https://github.com/BenMacdui/Grinchy-and-Wolfie-s-Python-Code"
      ]
    },
    {
      "cell_type": "code",
      "source": [
        "!pwd\n"
      ],
      "metadata": {
        "colab": {
          "base_uri": "https://localhost:8080/"
        },
        "id": "qZx5BW0nBC1j",
        "outputId": "86ef2f38-3093-4027-f61e-c4842020b88c"
      },
      "execution_count": 12,
      "outputs": [
        {
          "output_type": "stream",
          "name": "stdout",
          "text": [
            "/root\n"
          ]
        }
      ]
    },
    {
      "cell_type": "code",
      "source": [
        "%cd Grinchy-and-Wolfie-s-Python-Code/"
      ],
      "metadata": {
        "colab": {
          "base_uri": "https://localhost:8080/"
        },
        "id": "FZXTjG7MBMWH",
        "outputId": "e6020479-949c-4627-d110-19467634ffe0"
      },
      "execution_count": 14,
      "outputs": [
        {
          "output_type": "stream",
          "name": "stdout",
          "text": [
            "/root/Grinchy-and-Wolfie-s-Python-Code\n"
          ]
        }
      ]
    },
    {
      "cell_type": "code",
      "source": [
        "!python3 astroquiz.py"
      ],
      "metadata": {
        "id": "LRtlmCITBUki"
      },
      "execution_count": null,
      "outputs": []
    },
    {
      "cell_type": "code",
      "source": [
        ""
      ],
      "metadata": {
        "id": "lNexdV3EBYOw"
      },
      "execution_count": null,
      "outputs": []
    }
  ]
}