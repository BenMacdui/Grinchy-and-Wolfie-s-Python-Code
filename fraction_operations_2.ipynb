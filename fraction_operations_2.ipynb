{
  "nbformat": 4,
  "nbformat_minor": 0,
  "metadata": {
    "colab": {
      "name": "fraction operations 2.ipynb",
      "provenance": [],
      "authorship_tag": "ABX9TyNoL6R0vlrf/hgp+1d1kNl6",
      "include_colab_link": true
    },
    "kernelspec": {
      "name": "python3",
      "display_name": "Python 3"
    },
    "language_info": {
      "name": "python"
    }
  },
  "cells": [
    {
      "cell_type": "markdown",
      "metadata": {
        "id": "view-in-github",
        "colab_type": "text"
      },
      "source": [
        "<a href=\"https://colab.research.google.com/github/BenMacdui/Grinchy-and-Wolfie-s-Python-Code/blob/main/fraction_operations_2.ipynb\" target=\"_parent\"><img src=\"https://colab.research.google.com/assets/colab-badge.svg\" alt=\"Open In Colab\"/></a>"
      ]
    },
    {
      "cell_type": "code",
      "execution_count": null,
      "metadata": {
        "id": "Hj0x9chLXZuc"
      },
      "outputs": [],
      "source": [
        "'''This programme takes two fractions and their operation in one input. It also\n",
        "gives the option to quit the programme after the first operation. \n",
        "It prints out the result either as a mixed number or a proper Fraction'''\n",
        "\n",
        "from fractions import  Fraction as frac\n",
        "\n",
        "while True:\n",
        "    a = input('').split()\n",
        "\n",
        "    x = frac(a[0])\n",
        "    y = frac(a[2])\n",
        "    opp = a[1]\n",
        "\n",
        "    if opp == '-':\n",
        "        result = x - y\n",
        "        \n",
        "    elif opp == \"+\":\n",
        "        result = x+y\n",
        "        \n",
        "        \n",
        "    elif opp == '*':\n",
        "        result = x*y\n",
        "        \n",
        "        \n",
        "    elif opp == '/':\n",
        "        result = x/y\n",
        "        \n",
        "        \n",
        "    print()\n",
        "    print()\n",
        "\n",
        "    if result.numerator / result.denominator >= 1:\n",
        "        rx = result.numerator // result.denominator\n",
        "        ry = result.numerator % result.denominator\n",
        "        if y == frac(0,1):\n",
        "            print (f\"the result is a whole number: {rx}\")\n",
        "        else: \n",
        "            print(\"The result is a mixed number {} {}/{}\".format(rx, ry, result.denominator))\n",
        "            print()\n",
        "#this if condition just checks whether we have a 0/1 rest which \n",
        "# doesn't exist so we get rid of it by just printing the whole\n",
        "# number x. Otherwise we print the mixed number\n",
        "\n",
        "    if result.numerator / result.denominator < 1:\n",
        "        print(result.numerator, result.denominator,sep='\\n--\\n')\n",
        "    \n",
        "    print()\n",
        "  \n",
        "    stop = input(\"Do you want to continue? y or n: \")\n",
        "    \n",
        "    if stop == 'y':\n",
        "        continue\n",
        "    \n",
        "    else:\n",
        "        break\n",
        "    \n",
        "print()\n",
        "print(\"Thanks for using the program. Wolfie the trainee pirate \\U0001f600\")\n"
      ]
    }
  ]
}